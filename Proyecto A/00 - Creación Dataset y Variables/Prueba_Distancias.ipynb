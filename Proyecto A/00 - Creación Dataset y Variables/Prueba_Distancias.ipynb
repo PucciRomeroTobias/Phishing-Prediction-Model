{
 "cells": [
  {
   "cell_type": "markdown",
   "source": [
    "# Prueba Distancia de Strings"
   ],
   "metadata": {}
  },
  {
   "cell_type": "markdown",
   "source": [
    "## Paquetes"
   ],
   "metadata": {}
  },
  {
   "cell_type": "code",
   "execution_count": 1,
   "source": [
    "import pandas as pd\n",
    "import numpy as np\n",
    "from urllib.parse import urlparse\n",
    "import tldextract\n",
    "import jellyfish"
   ],
   "outputs": [],
   "metadata": {}
  },
  {
   "cell_type": "markdown",
   "source": [
    "Link de la documentación de la libreria.\n",
    "\n",
    "https://jellyfish.readthedocs.io/en/latest/comparison.html\n",
    "\n",
    "Link de la explicación de Jaro Distance.\n",
    "\n",
    "https://en.wikipedia.org/wiki/Jaro%E2%80%93Winkler_distance\n"
   ],
   "metadata": {}
  },
  {
   "cell_type": "code",
   "execution_count": 2,
   "source": [
    "links_url = [\n",
    "                'amazon.com', \n",
    "                'amazon.co.safeamazonsecure.icu', \n",
    "                'aoinamozm.servebeer.com', \n",
    "                'breakevents.de', \n",
    "                'spectralwirejewelry.com', \n",
    "                'eim.ae.iwc.static.royalgatetransport.ae',\n",
    "                'www.amazonlogistics.eu',\n",
    "                'www.amazon.fr'\n",
    "            ]\n",
    "\n",
    "for link in links_url:\n",
    "    print(tldextract.extract(link))"
   ],
   "outputs": [
    {
     "output_type": "stream",
     "name": "stdout",
     "text": [
      "ExtractResult(subdomain='', domain='amazon', suffix='com')\n",
      "ExtractResult(subdomain='amazon.co', domain='safeamazonsecure', suffix='icu')\n",
      "ExtractResult(subdomain='aoinamozm', domain='servebeer', suffix='com')\n",
      "ExtractResult(subdomain='', domain='breakevents', suffix='de')\n",
      "ExtractResult(subdomain='', domain='spectralwirejewelry', suffix='com')\n",
      "ExtractResult(subdomain='eim.ae.iwc.static', domain='royalgatetransport', suffix='ae')\n",
      "ExtractResult(subdomain='www', domain='amazonlogistics', suffix='eu')\n",
      "ExtractResult(subdomain='www', domain='amazon', suffix='fr')\n"
     ]
    }
   ],
   "metadata": {}
  },
  {
   "cell_type": "markdown",
   "source": [
    "La mejor métrica de similitud entre strings parece ser la distancia Jaro - Winkler. Esta es una mejor prueba que las hechas más abajo. Acá los dominios no tienen el sufijo y no incluyen \"www\", algo que en las comparaciones de abajo no está tenido en cuenta y altera los resultados."
   ],
   "metadata": {}
  },
  {
   "cell_type": "code",
   "execution_count": 6,
   "source": [
    "print(jellyfish.jaro_winkler('amazon', 'amazon'))\n",
    "print(jellyfish.jaro_winkler('amazon.co.safeamazonsecure', 'amazon'))\n",
    "print(jellyfish.jaro_winkler('aoinamozm.servebeer', 'amazon'))\n",
    "print(jellyfish.jaro_winkler('breakevents', 'amazon'))\n",
    "print(jellyfish.jaro_winkler('spectralwirejewelry', 'amazon'))\n",
    "print(jellyfish.jaro_winkler('eim.ae.iwc.static.royalgatetransport', 'amazon'))\n",
    "print(jellyfish.jaro_winkler('amazonlogistics', 'amazon'))\n",
    "print(jellyfish.jaro_winkler('amazon', 'amazon'))\n",
    "print(jellyfish.jaro_winkler('amazon', 'amaz0n'))\n",
    "print(jellyfish.jaro_winkler('amazon', 'mazon/amazon'))"
   ],
   "outputs": [
    {
     "output_type": "stream",
     "name": "stdout",
     "text": [
      "1.0\n",
      "0.8461538461538461\n",
      "0.6608187134502924\n",
      "0.5050505050505051\n",
      "0.4064327485380117\n",
      "0.5092592592592592\n",
      "0.88\n",
      "1.0\n",
      "0.9333333333333333\n",
      "0.6666666666666666\n"
     ]
    }
   ],
   "metadata": {}
  },
  {
   "cell_type": "code",
   "execution_count": 5,
   "source": [
    "for link in links_url:\n",
    "    print(f'Link: {link} - metric {jellyfish.jaro_distance(tldextract.extract(link).domain+tldextract.extract(link).subdomain, \"amazon\")}')"
   ],
   "outputs": [
    {
     "output_type": "stream",
     "name": "stdout",
     "text": [
      "Link: amazon.com - metric 1.0\n",
      "Link: amazon.co.safeamazonsecure.icu - metric 0.6911111111111111\n",
      "Link: aoinamozm.servebeer.com - metric 0.5555555555555555\n",
      "Link: breakevents.de - metric 0.5050505050505051\n",
      "Link: spectralwirejewelry.com - metric 0.4064327485380117\n",
      "Link: eim.ae.iwc.static.royalgatetransport.ae - metric 0.5103174603174603\n",
      "Link: www.amazonlogistics.eu - metric 0.7777777777777777\n",
      "Link: www.amazon.fr - metric 0.8888888888888888\n"
     ]
    }
   ],
   "metadata": {}
  },
  {
   "cell_type": "code",
   "execution_count": 7,
   "source": [
    "for link in links_url:\n",
    "    print(f'Link: {link} - metric {jellyfish.jaro_winkler(tldextract.extract(link).domain+tldextract.extract(link).subdomain, \"amazon\")}')"
   ],
   "outputs": [
    {
     "output_type": "stream",
     "name": "stdout",
     "text": [
      "Link: amazon.com - metric 1.0\n",
      "Link: amazon.co.safeamazonsecure.icu - metric 0.6911111111111111\n",
      "Link: aoinamozm.servebeer.com - metric 0.5555555555555555\n",
      "Link: breakevents.de - metric 0.5050505050505051\n",
      "Link: spectralwirejewelry.com - metric 0.4064327485380117\n",
      "Link: eim.ae.iwc.static.royalgatetransport.ae - metric 0.5103174603174603\n",
      "Link: www.amazonlogistics.eu - metric 0.8666666666666666\n",
      "Link: www.amazon.fr - metric 0.9333333333333333\n"
     ]
    }
   ],
   "metadata": {}
  },
  {
   "cell_type": "code",
   "execution_count": 8,
   "source": [
    "for link in links_url:\n",
    "    print(f'Link: {link} - metric {jellyfish.hamming_distance(link, \"amazon.com\")}')"
   ],
   "outputs": [
    {
     "output_type": "stream",
     "name": "stdout",
     "text": [
      "Link: amazon.com - metric 0\n",
      "Link: amazon.co.safeamazonsecure.icu - metric 21\n",
      "Link: aoinamozm.servebeer.com - metric 22\n",
      "Link: breakevents.de - metric 14\n",
      "Link: spectralwirejewelry.com - metric 23\n",
      "Link: eim.ae.iwc.static.royalgatetransport.ae - metric 38\n",
      "Link: www.amazonlogistics.eu - metric 21\n",
      "Link: www.amazon.fr - metric 12\n"
     ]
    }
   ],
   "metadata": {}
  },
  {
   "cell_type": "code",
   "execution_count": 9,
   "source": [
    "for link in links_url:\n",
    "    print(f'Link: {link} - metric {jellyfish.levenshtein_distance(link, \"amazon.com\")}')"
   ],
   "outputs": [
    {
     "output_type": "stream",
     "name": "stdout",
     "text": [
      "Link: amazon.com - metric 0\n",
      "Link: amazon.co.safeamazonsecure.icu - metric 20\n",
      "Link: aoinamozm.servebeer.com - metric 16\n",
      "Link: breakevents.de - metric 12\n",
      "Link: spectralwirejewelry.com - metric 18\n",
      "Link: eim.ae.iwc.static.royalgatetransport.ae - metric 34\n",
      "Link: www.amazonlogistics.eu - metric 15\n",
      "Link: www.amazon.fr - metric 7\n"
     ]
    }
   ],
   "metadata": {}
  },
  {
   "cell_type": "code",
   "execution_count": 10,
   "source": [
    "for link in links_url:\n",
    "    print(f'Link: {link} - metric {jellyfish.damerau_levenshtein_distance(link, \"amazon.com\")}')"
   ],
   "outputs": [
    {
     "output_type": "stream",
     "name": "stdout",
     "text": [
      "Link: amazon.com - metric 0\n",
      "Link: amazon.co.safeamazonsecure.icu - metric 20\n",
      "Link: aoinamozm.servebeer.com - metric 16\n",
      "Link: breakevents.de - metric 12\n",
      "Link: spectralwirejewelry.com - metric 18\n",
      "Link: eim.ae.iwc.static.royalgatetransport.ae - metric 34\n",
      "Link: www.amazonlogistics.eu - metric 15\n",
      "Link: www.amazon.fr - metric 7\n"
     ]
    }
   ],
   "metadata": {}
  }
 ],
 "metadata": {
  "orig_nbformat": 4,
  "language_info": {
   "name": "python",
   "version": "3.8.5",
   "mimetype": "text/x-python",
   "codemirror_mode": {
    "name": "ipython",
    "version": 3
   },
   "pygments_lexer": "ipython3",
   "nbconvert_exporter": "python",
   "file_extension": ".py"
  },
  "kernelspec": {
   "name": "python3",
   "display_name": "Python 3.8.5 64-bit ('base': conda)"
  },
  "interpreter": {
   "hash": "1035c9f89031aae6b77741c225f5058c1a7f3b64d31e40a953affed9b532ab28"
  }
 },
 "nbformat": 4,
 "nbformat_minor": 2
}