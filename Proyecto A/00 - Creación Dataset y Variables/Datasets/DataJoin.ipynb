{
 "cells": [
  {
   "cell_type": "code",
   "execution_count": 7,
   "source": [
    "import pandas as pd\n",
    "import numpy as np"
   ],
   "outputs": [],
   "metadata": {}
  },
  {
   "cell_type": "code",
   "execution_count": 6,
   "source": [
    "data_list = [\n",
    "    'Dataset_Phishing_5a10.csv', \n",
    "    'Dataset_Phishing_11a20.csv', \n",
    "    'Dataset_Phishing_21a30.csv', \n",
    "    'Dataset_Phishing_31a45.csv', \n",
    "    'Dataset_Phishing_46a60.csv', \n",
    "    'Dataset_Phishing_61a80.csv', \n",
    "    'Dataset_Phishing_81a100.csv', \n",
    "    'Dataset_Phishing_101a120.csv', \n",
    "    'Dataset_Phishing_121a180.csv', \n",
    "    'Dataset_Phishing_181a250.csv', \n",
    "    'Dataset_Phishing_251a350.csv', \n",
    "    'Dataset_Phishing_351a500.csv'\n",
    "]"
   ],
   "outputs": [],
   "metadata": {}
  },
  {
   "cell_type": "code",
   "execution_count": 18,
   "source": [
    "data_total = pd.read_csv('Dataset_Phishing_1a5.csv', index_col=0)\n",
    "\n",
    "for data in data_list:\n",
    "    df = pd.read_csv(data, index_col=0)\n",
    "    data_total = pd.concat([data_total, df])\n",
    "\n",
    "data_total.to_csv('Dataset_Phishing_Total.csv')\n"
   ],
   "outputs": [],
   "metadata": {}
  }
 ],
 "metadata": {
  "orig_nbformat": 4,
  "language_info": {
   "name": "python",
   "version": "3.8.5",
   "mimetype": "text/x-python",
   "codemirror_mode": {
    "name": "ipython",
    "version": 3
   },
   "pygments_lexer": "ipython3",
   "nbconvert_exporter": "python",
   "file_extension": ".py"
  },
  "kernelspec": {
   "name": "python3",
   "display_name": "Python 3.8.5 64-bit ('base': conda)"
  },
  "interpreter": {
   "hash": "1035c9f89031aae6b77741c225f5058c1a7f3b64d31e40a953affed9b532ab28"
  }
 },
 "nbformat": 4,
 "nbformat_minor": 2
}